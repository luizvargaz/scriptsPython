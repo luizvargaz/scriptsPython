{
 "cells": [
  {
   "cell_type": "code",
   "execution_count": 4,
   "metadata": {},
   "outputs": [
    {
     "name": "stdout",
     "output_type": "stream",
     "text": [
      "Processing: T16TEK_20200820T162901_B01.jp2\n",
      "Processing: T16TEK_20200820T162901_B12.jp2\n",
      "Processing: T16TEK_20200820T162901_TCI.jp2\n",
      "Processing: T16TEK_20200820T162901_B10.jp2\n",
      "Processing: T16TEK_20200820T162901_B8A.jp2\n",
      "Processing: T16TEK_20200820T162901_B04.jp2\n",
      "Processing: T16TEK_20200820T162901_B02.jp2\n",
      "Processing: T16TEK_20200820T162901_B09.jp2\n",
      "Processing: T16TEK_20200820T162901_B03.jp2\n",
      "Processing: T16TEK_20200820T162901_B11.jp2\n",
      "Processing: T16TEK_20200820T162901_B06.jp2\n",
      "Processing: T16TEK_20200820T162901_B05.jp2\n",
      "Processing: T16TEK_20200820T162901_B08.jp2\n",
      "Processing: T16TEK_20200820T162901_B07.jp2\n",
      "Processing: T16TEK_20200820T162901_PVI.jp2\n",
      "                       imagen_name   point_a    point_b        lat        lon\n",
      "0   T16TEK_20200820T162901_B01.jp2  499980.0  4500000.0  40.650857 -87.000237\n",
      "1   T16TEK_20200820T162901_B01.jp2  499980.0  4390200.0  39.661607 -87.000233\n",
      "2   T16TEK_20200820T162901_B01.jp2  609780.0  4390200.0  39.654557 -85.720358\n",
      "3   T16TEK_20200820T162901_B01.jp2  609780.0  4500000.0  40.643557 -85.701659\n",
      "4   T16TEK_20200820T162901_B01.jp2  499980.0  4500000.0  40.650857 -87.000237\n",
      "..                             ...       ...        ...        ...        ...\n",
      "70  T16TEK_20200820T162901_PVI.jp2  499980.0  4500000.0  40.650857 -87.000237\n",
      "71  T16TEK_20200820T162901_PVI.jp2  499980.0  4390240.0  39.661967 -87.000233\n",
      "72  T16TEK_20200820T162901_PVI.jp2  609740.0  4390240.0  39.654923 -85.720817\n",
      "73  T16TEK_20200820T162901_PVI.jp2  609740.0  4500000.0  40.643563 -85.702132\n",
      "74  T16TEK_20200820T162901_PVI.jp2  499980.0  4500000.0  40.650857 -87.000237\n",
      "\n",
      "[75 rows x 5 columns]\n"
     ]
    }
   ],
   "source": [
    "import rasterio\n",
    "import rasterio.features\n",
    "import pandas as pd\n",
    "import numpy as np\n",
    "import os\n",
    "\n",
    "from pyproj import Proj\n",
    "\n",
    "# create a pyproj object for indiana zone 16K\n",
    "testProy = Proj(\"+proj=utm +zone=16K, +ellps=WGS84 +datum=WGS84 +units=m +no_defs\")\n",
    "\n",
    "# get the file stored on that path\n",
    "path = './AUX_DATA/'\n",
    "jp2s_dir = os.listdir('./AUX_DATA/')\n",
    "\n",
    "# extension of images if there are other files \n",
    "file_ext = '.jp2'\n",
    "\n",
    "# filter the images if there are other files\n",
    "jp2s = [x for x in jp2s_dir if file_ext in x ]\n",
    "\n",
    "# create an empty dataframe to store the geom information\n",
    "coor_DF = pd.DataFrame(columns = ['imagen_name', 'point_a', 'point_b', 'lat', 'lon'])\n",
    "\n",
    "for image in jp2s:\n",
    "    \n",
    "    print('Processing: ' + image)\n",
    "    \n",
    "    image_path = path + image\n",
    "\n",
    "    with rasterio.open(image_path) as dataset:\n",
    "\n",
    "        # Read the dataset's valid data mask as a ndarray.\n",
    "        mask = dataset.dataset_mask()\n",
    "\n",
    "        # Extract feature shapes and values from the array.\n",
    "        for geom, val in rasterio.features.shapes(\n",
    "                mask, transform=dataset.transform):\n",
    "\n",
    "            # transform the geom values into a numpy array\n",
    "            geom_array = np.array(geom['coordinates'], dtype=object).tolist()\n",
    "\n",
    "            # iterate the array to transform each one of the five points\n",
    "            for i in range(0,len(geom_array[0])):\n",
    "\n",
    "                # transform the values into UTM coordinates using the testProy declared in the first line\n",
    "                lon, lat = testProy(geom_array[0][i][0], geom_array[0][i][1], inverse=True)\n",
    "\n",
    "                # add the values to the data frame\n",
    "                coor_DF = coor_DF.append({'imagen_name' : image, 'point_a' : geom_array[0][i][0], \n",
    "                                          'point_b' : geom_array[0][i][1], 'lat' : lat, 'lon' : lon}, ignore_index = True)\n",
    "\n",
    "                \n",
    "coor_DF.to_csv('coor_DF.csv')\n",
    "print(coor_DF)"
   ]
  },
  {
   "cell_type": "code",
   "execution_count": null,
   "metadata": {},
   "outputs": [],
   "source": [
    "from GPSPhoto import gpsphoto\n",
    "import os\n",
    "\n",
    "# path of the images directory \n",
    "files = os.listdir()\n",
    "\n",
    "# extension of images if there are other files \n",
    "file_ext = '.JPG'\n",
    "\n",
    "# filter the images if there are other files\n",
    "jpg_files = [x for x in files if file_ext in x ]\n",
    "\n",
    "# read each one of the files\n",
    "for file in jpg_files:\n",
    "    \n",
    "    print('reading ' + file, '\\n')\n",
    "    \n",
    "    print(gpsphoto.getGPSData(file))"
   ]
  },
  {
   "cell_type": "markdown",
   "metadata": {},
   "source": [
    "PROJ (https://proj.org/faq.html#what-is-the-best-format-for-describing-coordinate-reference-systems), a generic coordinate transformation software, has a Python library that allows converting geospatial coordinates between different coordinate reference systems. \n",
    "Using the information that you provide about your images. I was able to transform the geospatial information extracted from rasterio into UTM coordinates.\n",
    "\n",
    "Please review if the object for the zone fits your images.  \n",
    "https://ocefpaf.github.io/python4oceanographers/blog/2013/12/16/utm/"
   ]
  },
  {
   "cell_type": "code",
   "execution_count": 13,
   "metadata": {},
   "outputs": [
    {
     "name": "stdout",
     "output_type": "stream",
     "text": [
      "Lat:  -87.0002365638915  Lon:  40.650856515329274\n",
      "Lat:  -87.00023315577859  Lon:  39.66160695755279\n",
      "Lat:  -85.72035792136754  Lon:  39.654557306542685\n",
      "Lat:  -85.70165933841226  Lon:  40.64355721364672\n",
      "Lat:  -87.0002365638915  Lon:  40.650856515329274\n"
     ]
    }
   ],
   "source": [
    "import rasterio\n",
    "import rasterio.features\n",
    "import numpy as np\n",
    "\n",
    "from pyproj import Proj\n",
    "\n",
    "# create a pyproj object for indiana zone 16K\n",
    "testProy = Proj(\"+proj=utm +zone=16K, +ellps=WGS84 +datum=WGS84 +units=m +no_defs\")\n",
    "\n",
    "with rasterio.open('AUX_DATA/T16TEK_20200820T162901_B01.jp2') as dataset:\n",
    "\n",
    "        # Read the dataset's valid data mask as a ndarray.\n",
    "        mask = dataset.dataset_mask()\n",
    "\n",
    "        # Extract feature shapes and values from the array.\n",
    "        for geom, val in rasterio.features.shapes(\n",
    "                mask, transform=dataset.transform):\n",
    "            \n",
    "            # iterate the array to transform each one of the five points\n",
    "            for i in range(0,len(geom_array[0])):\n",
    "            \n",
    "                # transform the geom values into a numpy array\n",
    "                geom_array = np.array(geom['coordinates'], dtype=object).tolist()\n",
    "\n",
    "                #transform the values into UTM coordinates using the testProy declared in the first line\n",
    "                lat, lon = testProy(geom_array[0][i][0], geom_array[0][i][1], inverse=True)\n",
    "\n",
    "                print('Lat: ',lat, ' Lon: ',lon)"
   ]
  },
  {
   "cell_type": "code",
   "execution_count": null,
   "metadata": {},
   "outputs": [],
   "source": []
  }
 ],
 "metadata": {
  "kernelspec": {
   "display_name": "Python 3",
   "language": "python",
   "name": "python3"
  },
  "language_info": {
   "codemirror_mode": {
    "name": "ipython",
    "version": 3
   },
   "file_extension": ".py",
   "mimetype": "text/x-python",
   "name": "python",
   "nbconvert_exporter": "python",
   "pygments_lexer": "ipython3",
   "version": "3.8.5"
  }
 },
 "nbformat": 4,
 "nbformat_minor": 4
}
